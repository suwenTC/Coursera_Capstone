{
 "cells": [
  {
   "cell_type": "markdown",
   "metadata": {},
   "source": [
    "# Segmenting and Clustering Neighborhoods in Toronto"
   ]
  },
  {
   "cell_type": "markdown",
   "metadata": {},
   "source": [
    "## For this assignment, we will be required to explore and cluster the neighborhoods in Toronto.\n",
    "\n",
    "    Table of Content\n",
    "    1. Web Scraping"
   ]
  },
  {
   "cell_type": "code",
   "execution_count": 1,
   "metadata": {
    "scrolled": true
   },
   "outputs": [],
   "source": [
    "import pandas as pd\n",
    "import numpy as np\n",
    "\n",
    "from bs4 import BeautifulSoup\n",
    "import requests\n",
    "\n",
    "import warnings\n",
    "warnings.filterwarnings('ignore')"
   ]
  },
  {
   "cell_type": "markdown",
   "metadata": {},
   "source": [
    "## 1. Web Scrapping"
   ]
  },
  {
   "cell_type": "code",
   "execution_count": 2,
   "metadata": {},
   "outputs": [],
   "source": [
    "# get the html of the target page in the form of text.\n",
    "source = requests\\\n",
    "        .get('https://en.wikipedia.org/wiki/List_of_postal_codes_of_Canada:_M')\\\n",
    "        .text"
   ]
  },
  {
   "cell_type": "code",
   "execution_count": 3,
   "metadata": {},
   "outputs": [],
   "source": [
    "# pass in the html file into a BeautifulSoup and specify our parser as lxml.\n",
    "soup = BeautifulSoup(source, 'lxml')"
   ]
  },
  {
   "cell_type": "code",
   "execution_count": 4,
   "metadata": {},
   "outputs": [],
   "source": [
    "# find the table tag in the html\n",
    "table = soup.find('table')"
   ]
  },
  {
   "cell_type": "code",
   "execution_count": 5,
   "metadata": {},
   "outputs": [],
   "source": [
    "# find all the td tags under the table tag\n",
    "tds = table.find_all('td')"
   ]
  },
  {
   "cell_type": "code",
   "execution_count": 6,
   "metadata": {},
   "outputs": [],
   "source": [
    "postal_code_df = pd.DataFrame(columns=['Postal Code', 'Borough', 'Neighborhood'])\n",
    "\n",
    "# Loop through a list of td tags with a step size of 3\n",
    "# and append the info to the dataframe.\n",
    "for i in range(0, len(tds), 3):\n",
    "    postcode = tds[i].text.strip()\n",
    "    borough = tds[i+1].text.strip()\n",
    "    neighbourhood = tds[i+2].text.strip()\n",
    "    \n",
    "    if borough == 'Not assigned':\n",
    "        continue\n",
    "\n",
    "    if borough != 'Not assigned' and neighbourhood == 'Not assigned':\n",
    "        neighbourhood = borough\n",
    "    \n",
    "    postal_code_df = postal_code_df.append({\n",
    "        'Postal Code': postcode,\n",
    "        'Borough': borough,\n",
    "        'Neighborhood': neighbourhood\n",
    "    }, ignore_index=True)"
   ]
  },
  {
   "cell_type": "code",
   "execution_count": 7,
   "metadata": {},
   "outputs": [
    {
     "data": {
      "text/html": [
       "<div>\n",
       "<style scoped>\n",
       "    .dataframe tbody tr th:only-of-type {\n",
       "        vertical-align: middle;\n",
       "    }\n",
       "\n",
       "    .dataframe tbody tr th {\n",
       "        vertical-align: top;\n",
       "    }\n",
       "\n",
       "    .dataframe thead th {\n",
       "        text-align: right;\n",
       "    }\n",
       "</style>\n",
       "<table border=\"1\" class=\"dataframe\">\n",
       "  <thead>\n",
       "    <tr style=\"text-align: right;\">\n",
       "      <th></th>\n",
       "      <th>Postal Code</th>\n",
       "      <th>Borough</th>\n",
       "      <th>Neighborhood</th>\n",
       "    </tr>\n",
       "  </thead>\n",
       "  <tbody>\n",
       "    <tr>\n",
       "      <th>0</th>\n",
       "      <td>M3A</td>\n",
       "      <td>North York</td>\n",
       "      <td>Parkwoods</td>\n",
       "    </tr>\n",
       "    <tr>\n",
       "      <th>1</th>\n",
       "      <td>M4A</td>\n",
       "      <td>North York</td>\n",
       "      <td>Victoria Village</td>\n",
       "    </tr>\n",
       "    <tr>\n",
       "      <th>2</th>\n",
       "      <td>M5A</td>\n",
       "      <td>Downtown Toronto</td>\n",
       "      <td>Harbourfront</td>\n",
       "    </tr>\n",
       "    <tr>\n",
       "      <th>3</th>\n",
       "      <td>M5A</td>\n",
       "      <td>Downtown Toronto</td>\n",
       "      <td>Regent Park</td>\n",
       "    </tr>\n",
       "    <tr>\n",
       "      <th>4</th>\n",
       "      <td>M6A</td>\n",
       "      <td>North York</td>\n",
       "      <td>Lawrence Heights</td>\n",
       "    </tr>\n",
       "  </tbody>\n",
       "</table>\n",
       "</div>"
      ],
      "text/plain": [
       "  Postal Code           Borough      Neighborhood\n",
       "0         M3A        North York         Parkwoods\n",
       "1         M4A        North York  Victoria Village\n",
       "2         M5A  Downtown Toronto      Harbourfront\n",
       "3         M5A  Downtown Toronto       Regent Park\n",
       "4         M6A        North York  Lawrence Heights"
      ]
     },
     "execution_count": 7,
     "metadata": {},
     "output_type": "execute_result"
    }
   ],
   "source": [
    "postal_code_df.head()"
   ]
  },
  {
   "cell_type": "code",
   "execution_count": 8,
   "metadata": {},
   "outputs": [
    {
     "data": {
      "text/plain": [
       "(212, 3)"
      ]
     },
     "execution_count": 8,
     "metadata": {},
     "output_type": "execute_result"
    }
   ],
   "source": [
    "postal_code_df.shape"
   ]
  },
  {
   "cell_type": "markdown",
   "metadata": {},
   "source": [
    "##  Geocoder to Get Latitude and Longitude"
   ]
  },
  {
   "cell_type": "code",
   "execution_count": 9,
   "metadata": {},
   "outputs": [],
   "source": [
    "import os\n",
    "import pickle\n",
    "import googlemaps"
   ]
  },
  {
   "cell_type": "code",
   "execution_count": 11,
   "metadata": {},
   "outputs": [],
   "source": [
    "gmaps = googlemaps.Client(key=key)"
   ]
  },
  {
   "cell_type": "code",
   "execution_count": 12,
   "metadata": {},
   "outputs": [],
   "source": [
    "def get_lat_lng(postal_code_df):\n",
    "    lats = []\n",
    "    lngs = []\n",
    "\n",
    "    for i in range(postal_code_df.shape[0]):\n",
    "        current_row = postal_code_df.iloc[i, :]\n",
    "\n",
    "        geo_info = '{}, Toronto, Ontario'.\\\n",
    "                    format(current_row['Postal Code'])\n",
    "\n",
    "        geocode_result = gmaps.geocode(geo_info)   \n",
    "\n",
    "        lat_lng_coords = geocode_result[0]['geometry']['location']\n",
    "\n",
    "        lats.append(lat_lng_coords['lat'])\n",
    "        lngs.append(lat_lng_coords['lng'])\n",
    "\n",
    "    postal_code_df['Latitude'] = lats\n",
    "    postal_code_df['Longitude'] = lngs\n",
    "    \n",
    "    pickle_out = open('postal_code_df.pkl', 'wb')\n",
    "    pickle.dump(postal_code_df, pickle_out)\n",
    "\n",
    "    return postal_code_df"
   ]
  },
  {
   "cell_type": "code",
   "execution_count": 13,
   "metadata": {},
   "outputs": [],
   "source": [
    "exists = os.path.isfile('postal_code_df.pkl')\n",
    "\n",
    "if exists:\n",
    "    pickle_in = open('postal_code_df.pkl', 'rb')\n",
    "    postal_code_df = pickle.load(pickle_in)\n",
    "else:\n",
    "    postal_code_df = get_lat_lng(postal_code_df)"
   ]
  },
  {
   "cell_type": "code",
   "execution_count": 14,
   "metadata": {
    "scrolled": true
   },
   "outputs": [
    {
     "data": {
      "text/html": [
       "<div>\n",
       "<style scoped>\n",
       "    .dataframe tbody tr th:only-of-type {\n",
       "        vertical-align: middle;\n",
       "    }\n",
       "\n",
       "    .dataframe tbody tr th {\n",
       "        vertical-align: top;\n",
       "    }\n",
       "\n",
       "    .dataframe thead th {\n",
       "        text-align: right;\n",
       "    }\n",
       "</style>\n",
       "<table border=\"1\" class=\"dataframe\">\n",
       "  <thead>\n",
       "    <tr style=\"text-align: right;\">\n",
       "      <th></th>\n",
       "      <th>Postal Code</th>\n",
       "      <th>Borough</th>\n",
       "      <th>Neighborhood</th>\n",
       "      <th>Latitude</th>\n",
       "      <th>Longitude</th>\n",
       "    </tr>\n",
       "  </thead>\n",
       "  <tbody>\n",
       "    <tr>\n",
       "      <th>0</th>\n",
       "      <td>M3A</td>\n",
       "      <td>North York</td>\n",
       "      <td>Parkwoods</td>\n",
       "      <td>43.753259</td>\n",
       "      <td>-79.329656</td>\n",
       "    </tr>\n",
       "    <tr>\n",
       "      <th>1</th>\n",
       "      <td>M4A</td>\n",
       "      <td>North York</td>\n",
       "      <td>Victoria Village</td>\n",
       "      <td>43.725882</td>\n",
       "      <td>-79.315572</td>\n",
       "    </tr>\n",
       "    <tr>\n",
       "      <th>2</th>\n",
       "      <td>M5A</td>\n",
       "      <td>Downtown Toronto</td>\n",
       "      <td>Harbourfront</td>\n",
       "      <td>43.654260</td>\n",
       "      <td>-79.360636</td>\n",
       "    </tr>\n",
       "    <tr>\n",
       "      <th>3</th>\n",
       "      <td>M5A</td>\n",
       "      <td>Downtown Toronto</td>\n",
       "      <td>Regent Park</td>\n",
       "      <td>43.654260</td>\n",
       "      <td>-79.360636</td>\n",
       "    </tr>\n",
       "    <tr>\n",
       "      <th>4</th>\n",
       "      <td>M6A</td>\n",
       "      <td>North York</td>\n",
       "      <td>Lawrence Heights</td>\n",
       "      <td>43.718518</td>\n",
       "      <td>-79.464763</td>\n",
       "    </tr>\n",
       "    <tr>\n",
       "      <th>5</th>\n",
       "      <td>M6A</td>\n",
       "      <td>North York</td>\n",
       "      <td>Lawrence Manor</td>\n",
       "      <td>43.718518</td>\n",
       "      <td>-79.464763</td>\n",
       "    </tr>\n",
       "    <tr>\n",
       "      <th>6</th>\n",
       "      <td>M7A</td>\n",
       "      <td>Queen's Park</td>\n",
       "      <td>Queen's Park</td>\n",
       "      <td>43.662301</td>\n",
       "      <td>-79.389494</td>\n",
       "    </tr>\n",
       "    <tr>\n",
       "      <th>7</th>\n",
       "      <td>M9A</td>\n",
       "      <td>Etobicoke</td>\n",
       "      <td>Islington Avenue</td>\n",
       "      <td>43.667856</td>\n",
       "      <td>-79.532242</td>\n",
       "    </tr>\n",
       "    <tr>\n",
       "      <th>8</th>\n",
       "      <td>M1B</td>\n",
       "      <td>Scarborough</td>\n",
       "      <td>Rouge</td>\n",
       "      <td>43.806686</td>\n",
       "      <td>-79.194353</td>\n",
       "    </tr>\n",
       "    <tr>\n",
       "      <th>9</th>\n",
       "      <td>M1B</td>\n",
       "      <td>Scarborough</td>\n",
       "      <td>Malvern</td>\n",
       "      <td>43.806686</td>\n",
       "      <td>-79.194353</td>\n",
       "    </tr>\n",
       "    <tr>\n",
       "      <th>10</th>\n",
       "      <td>M3B</td>\n",
       "      <td>North York</td>\n",
       "      <td>Don Mills North</td>\n",
       "      <td>43.745906</td>\n",
       "      <td>-79.352188</td>\n",
       "    </tr>\n",
       "  </tbody>\n",
       "</table>\n",
       "</div>"
      ],
      "text/plain": [
       "   Postal Code           Borough      Neighborhood   Latitude  Longitude\n",
       "0          M3A        North York         Parkwoods  43.753259 -79.329656\n",
       "1          M4A        North York  Victoria Village  43.725882 -79.315572\n",
       "2          M5A  Downtown Toronto      Harbourfront  43.654260 -79.360636\n",
       "3          M5A  Downtown Toronto       Regent Park  43.654260 -79.360636\n",
       "4          M6A        North York  Lawrence Heights  43.718518 -79.464763\n",
       "5          M6A        North York    Lawrence Manor  43.718518 -79.464763\n",
       "6          M7A      Queen's Park      Queen's Park  43.662301 -79.389494\n",
       "7          M9A         Etobicoke  Islington Avenue  43.667856 -79.532242\n",
       "8          M1B       Scarborough             Rouge  43.806686 -79.194353\n",
       "9          M1B       Scarborough           Malvern  43.806686 -79.194353\n",
       "10         M3B        North York   Don Mills North  43.745906 -79.352188"
      ]
     },
     "execution_count": 14,
     "metadata": {},
     "output_type": "execute_result"
    }
   ],
   "source": [
    "postal_code_df.head(11)"
   ]
  },
  {
   "cell_type": "code",
   "execution_count": 15,
   "metadata": {},
   "outputs": [
    {
     "data": {
      "text/plain": [
       "array(['North York', 'Downtown Toronto', \"Queen's Park\", 'Etobicoke',\n",
       "       'Scarborough', 'East York', 'York', 'East Toronto', 'West Toronto',\n",
       "       'Central Toronto', 'Mississauga'], dtype=object)"
      ]
     },
     "execution_count": 15,
     "metadata": {},
     "output_type": "execute_result"
    }
   ],
   "source": [
    "postal_code_df.Borough.unique()"
   ]
  },
  {
   "cell_type": "markdown",
   "metadata": {},
   "source": [
    "## 3. Explore Toronto"
   ]
  },
  {
   "cell_type": "code",
   "execution_count": 16,
   "metadata": {},
   "outputs": [],
   "source": [
    "from geopy.geocoders import Nominatim\n",
    "import folium"
   ]
  },
  {
   "cell_type": "code",
   "execution_count": 17,
   "metadata": {},
   "outputs": [],
   "source": [
    "toronto_idx = [i for i in postal_code_df.index.tolist() \n",
    "                        if 'Toronto' in postal_code_df.loc[i, 'Borough']]"
   ]
  },
  {
   "cell_type": "code",
   "execution_count": 18,
   "metadata": {},
   "outputs": [],
   "source": [
    "toronto_df = postal_code_df.iloc[toronto_idx, 1:]"
   ]
  },
  {
   "cell_type": "code",
   "execution_count": 19,
   "metadata": {},
   "outputs": [
    {
     "data": {
      "text/html": [
       "<div>\n",
       "<style scoped>\n",
       "    .dataframe tbody tr th:only-of-type {\n",
       "        vertical-align: middle;\n",
       "    }\n",
       "\n",
       "    .dataframe tbody tr th {\n",
       "        vertical-align: top;\n",
       "    }\n",
       "\n",
       "    .dataframe thead th {\n",
       "        text-align: right;\n",
       "    }\n",
       "</style>\n",
       "<table border=\"1\" class=\"dataframe\">\n",
       "  <thead>\n",
       "    <tr style=\"text-align: right;\">\n",
       "      <th></th>\n",
       "      <th>Borough</th>\n",
       "      <th>Neighborhood</th>\n",
       "      <th>Latitude</th>\n",
       "      <th>Longitude</th>\n",
       "    </tr>\n",
       "  </thead>\n",
       "  <tbody>\n",
       "    <tr>\n",
       "      <th>2</th>\n",
       "      <td>Downtown Toronto</td>\n",
       "      <td>Harbourfront</td>\n",
       "      <td>43.654260</td>\n",
       "      <td>-79.360636</td>\n",
       "    </tr>\n",
       "    <tr>\n",
       "      <th>3</th>\n",
       "      <td>Downtown Toronto</td>\n",
       "      <td>Regent Park</td>\n",
       "      <td>43.654260</td>\n",
       "      <td>-79.360636</td>\n",
       "    </tr>\n",
       "    <tr>\n",
       "      <th>13</th>\n",
       "      <td>Downtown Toronto</td>\n",
       "      <td>Ryerson</td>\n",
       "      <td>43.657162</td>\n",
       "      <td>-79.378937</td>\n",
       "    </tr>\n",
       "    <tr>\n",
       "      <th>14</th>\n",
       "      <td>Downtown Toronto</td>\n",
       "      <td>Garden District</td>\n",
       "      <td>43.657162</td>\n",
       "      <td>-79.378937</td>\n",
       "    </tr>\n",
       "    <tr>\n",
       "      <th>27</th>\n",
       "      <td>Downtown Toronto</td>\n",
       "      <td>St. James Town</td>\n",
       "      <td>43.651494</td>\n",
       "      <td>-79.375418</td>\n",
       "    </tr>\n",
       "  </tbody>\n",
       "</table>\n",
       "</div>"
      ],
      "text/plain": [
       "             Borough     Neighborhood   Latitude  Longitude\n",
       "2   Downtown Toronto     Harbourfront  43.654260 -79.360636\n",
       "3   Downtown Toronto      Regent Park  43.654260 -79.360636\n",
       "13  Downtown Toronto          Ryerson  43.657162 -79.378937\n",
       "14  Downtown Toronto  Garden District  43.657162 -79.378937\n",
       "27  Downtown Toronto   St. James Town  43.651494 -79.375418"
      ]
     },
     "execution_count": 19,
     "metadata": {},
     "output_type": "execute_result"
    }
   ],
   "source": [
    "toronto_df.head()"
   ]
  },
  {
   "cell_type": "code",
   "execution_count": 20,
   "metadata": {},
   "outputs": [
    {
     "name": "stdout",
     "output_type": "stream",
     "text": [
      "The dataframe has 4 boroughs and 73 neighborhoods.\n"
     ]
    }
   ],
   "source": [
    "print('The dataframe has {} boroughs and {} neighborhoods.'\n",
    "     .format(\n",
    "         len(toronto_df['Borough'].unique()),\n",
    "         len(toronto_df['Neighborhood'].unique())\n",
    "     ))"
   ]
  },
  {
   "cell_type": "code",
   "execution_count": 21,
   "metadata": {},
   "outputs": [
    {
     "name": "stdout",
     "output_type": "stream",
     "text": [
      "The geographical coordinate of Toronto are 43.653963, -79.387207\n"
     ]
    }
   ],
   "source": [
    "address = 'Toronto, ON'\n",
    "\n",
    "geolocator = Nominatim()\n",
    "toronto_location = geolocator.geocode(address)\n",
    "toronto_lat = toronto_location.latitude\n",
    "toronto_lng = toronto_location.longitude\n",
    "\n",
    "print('The geographical coordinate of Toronto are {}, {}'\n",
    "      .format(toronto_lat, toronto_lng))"
   ]
  },
  {
   "cell_type": "code",
   "execution_count": 22,
   "metadata": {},
   "outputs": [
    {
     "data": {
      "text/html": [
       "<div style=\"width:100%;\"><div style=\"position:relative;width:100%;height:0;padding-bottom:60%;\"><iframe src=\"data:text/html;charset=utf-8;base64,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\" style=\"position:absolute;width:100%;height:100%;left:0;top:0;border:none !important;\" allowfullscreen webkitallowfullscreen mozallowfullscreen></iframe></div></div>"
      ],
      "text/plain": [
       "<folium.folium.Map at 0x7f65fb323198>"
      ]
     },
     "execution_count": 22,
     "metadata": {},
     "output_type": "execute_result"
    }
   ],
   "source": [
    "map_toronto = folium.Map(location = [toronto_lat, toronto_lng],\n",
    "                        zoom_start = 13)\n",
    "\n",
    "for lat, lng, label in zip(toronto_df['Latitude'], \n",
    "                           toronto_df['Longitude'],\n",
    "                          toronto_df['Neighborhood']):\n",
    "    label = folium.Popup(label, parse_html=True)\n",
    "    folium.CircleMarker(\n",
    "        [lat, lng],\n",
    "        radius = 5,\n",
    "        popup = label,\n",
    "        color = 'blue',\n",
    "        fill = True,\n",
    "        fill_color = '#3186cc',\n",
    "        fill_opacity = 0.7).add_to(map_toronto)\n",
    "    \n",
    "map_toronto"
   ]
  }
 ],
 "metadata": {
  "kernelspec": {
   "display_name": "Python 3",
   "language": "python",
   "name": "python3"
  },
  "language_info": {
   "codemirror_mode": {
    "name": "ipython",
    "version": 3
   },
   "file_extension": ".py",
   "mimetype": "text/x-python",
   "name": "python",
   "nbconvert_exporter": "python",
   "pygments_lexer": "ipython3",
   "version": "3.6.5"
  }
 },
 "nbformat": 4,
 "nbformat_minor": 2
}
